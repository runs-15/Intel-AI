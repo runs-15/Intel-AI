{
 "metadata": {
  "language_info": {
   "codemirror_mode": {
    "name": "ipython",
    "version": 3
   },
   "file_extension": ".py",
   "mimetype": "text/x-python",
   "name": "python",
   "nbconvert_exporter": "python",
   "pygments_lexer": "ipython3",
   "version": "3.9.1"
  },
  "orig_nbformat": 4,
  "kernelspec": {
   "name": "python3",
   "display_name": "Python 3.9.1 64-bit"
  },
  "interpreter": {
   "hash": "64c186e311c60a1caaf695f555b4bd88d018468f9e8b6a4180150a8eb44f5e19"
  }
 },
 "nbformat": 4,
 "nbformat_minor": 2,
 "cells": [
  {
   "cell_type": "code",
   "execution_count": 1,
   "metadata": {},
   "outputs": [
    {
     "output_type": "execute_result",
     "data": {
      "text/plain": [
       "2036"
      ]
     },
     "metadata": {},
     "execution_count": 1
    }
   ],
   "source": [
    "def kucing(tikus, keju):\n",
    "    if tikus > keju:\n",
    "        return 0\n",
    "    else:\n",
    "        return tikus + kucing(tikus * 2 + 1, keju)\n",
    "\n",
    "kucing(1, 2021)"
   ]
  },
  {
   "source": [
    "kucing(1,2021) --> 1 + kucing(3, 2021)\n",
    "kucing(3, 2021) --> 3 + kucing(7, 2021)\n",
    "kucing(7, 2021) --> 7 + kucing(15, 2021)\n",
    "kucing(15, 2021) --> 15 + kucing(31, 2021)\n",
    "kucing(31, 2021) --> 31 + kucing(63, 2021)\n",
    "kucing(63, 2021) --> 63 + kucing(127, 2021)\n",
    "kucing(127, 2021) --> 127 + kucing(255, 2021)\n",
    "kucing(255, 2021) --> 255 + kucing(511, 2021)\n",
    "kucing(511, 2021) --> 511 + kucing(1023, 2021)\n",
    "kucing(1023, 2021) --> 1023 + kucing(2047, 2021)\n",
    "kucing(2047, 2021) --> 0"
   ],
   "cell_type": "code",
   "metadata": {},
   "execution_count": null,
   "outputs": []
  },
  {
   "cell_type": "code",
   "execution_count": 6,
   "metadata": {},
   "outputs": [
    {
     "output_type": "execute_result",
     "data": {
      "text/plain": [
       "22"
      ]
     },
     "metadata": {},
     "execution_count": 6
    }
   ],
   "source": [
    "def f(n : int):\n",
    "    if n == 0:\n",
    "        return 0\n",
    "    else:\n",
    "        return(n % 10 + 2*f(n // 10))\n",
    "\n",
    "f(10110)"
   ]
  },
  {
   "cell_type": "code",
   "execution_count": null,
   "metadata": {},
   "outputs": [],
   "source": [
    "n = 10110 --> 0 + 2*f(1011)\n",
    "          --> 0 + 2*(1 + 2*f(101))\n",
    "          --> 0 + 2*(1 + 2*(1 + 2*f(10)))\n",
    "          --> 0 + 2*(1 + 2*(1 + 2*(0 + 2*f(1))))\n",
    "          --> 0 + 2*(1 + 2*(1 + 2*(0 + 2*(1 + 2*0))))\n",
    "          --> 0 + 2*(1 + 2*(1 + 2*(0 + 2*1)))\n",
    "          --> 0 + 2*(1 + 2*(1 + 2*2))\n",
    "          --> 0 + 2*(1 + 2*5)\n",
    "          --> 0 + 2*11\n",
    "          --> 22"
   ]
  },
  {
   "cell_type": "code",
   "execution_count": 4,
   "metadata": {},
   "outputs": [
    {
     "output_type": "execute_result",
     "data": {
      "text/plain": [
       "468005"
      ]
     },
     "metadata": {},
     "execution_count": 4
    }
   ],
   "source": [
    "def g(x : int, y : int, z : int):\n",
    "    if x == 0:\n",
    "        return 0\n",
    "    else:\n",
    "        return(x % 10 * z + g(x // 10, y, z * y))\n",
    "\n",
    "\n",
    "g(14010405, 6, 1)\n"
   ]
  },
  {
   "cell_type": "code",
   "execution_count": null,
   "metadata": {},
   "outputs": [],
   "source": [
    "g(14010405, 6, 1) --> 5 * 1 + g(1401040, 6, 6)\n",
    "                  --> 5 * 1 + 0 * 6 + g(140104, 6, 36)\n",
    "                  --> 5 * 1 + 0 * 6 + 4 * 36 + g(14010, 6, 216)\n",
    "                  --> 5 * 1 + 0 * 6 + 4 * 36 + 0 * 216 + g(1401, 6, 1296)\n",
    "                  --> 5 * 1 + 0 * 6 + 4 * 36 + 0 * 216 + 1 * 1296 + g(140, 6, 7776)\n",
    "                  --> 5 * 1 + 0 * 6 + 4 * 36 + 0 * 216 + 1 * 1296 + 0 * 7776 + g(14, 6, 46656)\n",
    "                  --> 5 * 1 + 0 * 6 + 4 * 36 + 0 * 216 + 1 * 1296 + 0 * 7776 + 4 * 46656 + g(1, 6, 279936)\n",
    "                  --> 5 * 1 + 0 * 6 + 4 * 36 + 0 * 216 + 1 * 1296 + 0 * 7776 + 4 * 46656 + 1 * 279936 + g(0, 6, 279936)\n",
    "                  --> (5 * 1) + (0 * 6) + (4 * 36) + (0 * 216) + (1 * 1296) + 0 * 7776 + (4 * 46656) + (1 * 279936) + 0"
   ]
  }
 ]
}