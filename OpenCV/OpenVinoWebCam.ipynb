{
 "metadata": {
  "language_info": {
   "codemirror_mode": {
    "name": "ipython",
    "version": 3
   },
   "file_extension": ".py",
   "mimetype": "text/x-python",
   "name": "python",
   "nbconvert_exporter": "python",
   "pygments_lexer": "ipython3",
   "version": "3.9.1"
  },
  "orig_nbformat": 4,
  "kernelspec": {
   "name": "python3",
   "display_name": "Python 3.9.1 64-bit"
  },
  "interpreter": {
   "hash": "64c186e311c60a1caaf695f555b4bd88d018468f9e8b6a4180150a8eb44f5e19"
  }
 },
 "nbformat": 4,
 "nbformat_minor": 2,
 "cells": [
  {
   "cell_type": "code",
   "execution_count": 1,
   "metadata": {},
   "outputs": [],
   "source": [
    "from openvino.inference_engine import IECore\n",
    "import cv2\n",
    "import numpy as np"
   ]
  },
  {
   "cell_type": "code",
   "execution_count": 2,
   "metadata": {},
   "outputs": [],
   "source": [
    "ie = IECore()\n",
    "net = ie.read_network(\n",
    "    model = 'face-detection-0200.xml',\n",
    "    weights = 'face-detection-0200.bin'\n",
    ")\n",
    "\n",
    "model = ie.load_network(net, \"CPU\")\n",
    "\n",
    "cam = cv2.VideoCapture(0)\n",
    "\n",
    "while True:\n",
    "    ret, frame = cam.read()\n",
    "\n",
    "    resized = cv2.resize(frame, (256, 256))\n",
    "    transposed = np.transpose(resized, (2, 0, 1))\n",
    "    input_image = np.array([transposed], dtype=np.float32)\n",
    "    result = model.infer({\"image\" : input_image})\n",
    "\n",
    "    for i in result['detection_out'][0,0]:\n",
    "        if i[2] >= 0.5: # mencetak kotak bila keyakinan model lebih dari 50%\n",
    "            tinggi, lebar, channel = frame.shape\n",
    "            cv2.rectangle(\n",
    "                frame,\n",
    "                (int(lebar*i[3]), int(tinggi*i[4])),\n",
    "                (int(lebar*i[5]), int(tinggi*i[6])),\n",
    "                (0,255,0),3\n",
    "            )\n",
    "\n",
    "    cv2.imshow(\"Camera\", frame)\n",
    "\n",
    "    if cv2.waitKey(1) & 0xFF == ord(' '):\n",
    "        break\n"
   ]
  },
  {
   "cell_type": "code",
   "execution_count": null,
   "metadata": {},
   "outputs": [],
   "source": []
  }
 ]
}